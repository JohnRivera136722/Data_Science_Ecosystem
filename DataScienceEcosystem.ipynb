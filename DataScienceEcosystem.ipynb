{
 "cells": [
  {
   "cell_type": "markdown",
   "id": "ac5e2363",
   "metadata": {},
   "source": [
    "# Data Science Tools and Ecosystem\n",
    "\n",
    "In this notebook, Data Science Tools and Ecosystem are summarized."
   ]
  },
  {
   "cell_type": "markdown",
   "id": "13580376",
   "metadata": {},
   "source": [
    "__Objectives:__\n",
    "- Throughout this notebook commonly used programming languages in the Data Science world will shown\n",
    "- Popular libraries utilized by Data Scientist are seen\n",
    "- A list of Tools that are commonly used in the Data Science world will be displayed"
   ]
  },
  {
   "cell_type": "markdown",
   "id": "cc9a9a9b",
   "metadata": {},
   "source": [
    "Some of the most popular languages that Data Scientist use are:\n",
    "1. Python\n",
    "1. R\n",
    "1. SQL\n",
    "\n"
   ]
  },
  {
   "cell_type": "markdown",
   "id": "0adfd169",
   "metadata": {},
   "source": [
    "Some of the commonly used libraries used by Data Scientists include:\n",
    "1. Panda\n",
    "1. Pytorch\n",
    "1. TensorFlow\n"
   ]
  },
  {
   "cell_type": "markdown",
   "id": "85963aa3",
   "metadata": {},
   "source": [
    "| Data Science Tool |\n",
    "|:-----------------|\n",
    "| GitHub |\n",
    "| Jupyter Notebook |\n",
    "| RStudio |\n"
   ]
  },
  {
   "cell_type": "markdown",
   "id": "5f318168",
   "metadata": {},
   "source": [
    "### Below are a few examples of evaluating arithmetic expressions in Python:"
   ]
  },
  {
   "cell_type": "code",
   "execution_count": 1,
   "id": "37f008fc",
   "metadata": {},
   "outputs": [
    {
     "name": "stdout",
     "output_type": "stream",
     "text": [
      "17\n"
     ]
    }
   ],
   "source": [
    "a = (3*4)+5\n",
    "#This a simple arithmetic expression to mutiply then add integers\n",
    "print(a)\n"
   ]
  },
  {
   "cell_type": "code",
   "execution_count": 4,
   "id": "8fbea45e",
   "metadata": {},
   "outputs": [
    {
     "name": "stdout",
     "output_type": "stream",
     "text": [
      "3.3333333333333335 hours\n"
     ]
    }
   ],
   "source": [
    "min_hr = 200/60\n",
    "#This will convert 200 minutes to hours by diving by 60\n",
    "print(min_hr,'hours')"
   ]
  },
  {
   "cell_type": "markdown",
   "id": "75fb55ea",
   "metadata": {},
   "source": [
    "## Author\n",
    "John Rivera"
   ]
  },
  {
   "cell_type": "code",
   "execution_count": null,
   "id": "1cb761b9",
   "metadata": {},
   "outputs": [],
   "source": []
  }
 ],
 "metadata": {
  "kernelspec": {
   "display_name": "Python 3 (ipykernel)",
   "language": "python",
   "name": "python3"
  },
  "language_info": {
   "codemirror_mode": {
    "name": "ipython",
    "version": 3
   },
   "file_extension": ".py",
   "mimetype": "text/x-python",
   "name": "python",
   "nbconvert_exporter": "python",
   "pygments_lexer": "ipython3",
   "version": "3.11.4"
  }
 },
 "nbformat": 4,
 "nbformat_minor": 5
}
